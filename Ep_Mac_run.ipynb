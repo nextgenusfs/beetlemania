{
 "cells": [
  {
   "cell_type": "code",
   "execution_count": 1,
   "metadata": {
    "collapsed": false
   },
   "outputs": [
    {
     "name": "stdout",
     "output_type": "stream",
     "text": [
      "--2017-04-24 08:30:34--  ftp://ftp.ncbi.nlm.nih.gov/genomes/all/GCA/001/879/705/GCA_001879705.1_ASM187970v1/GCA_001879705.1_ASM187970v1_genomic.fna.gz\n",
      "           => ‘GCA_001879705.1_ASM187970v1_genomic.fna.gz’\n",
      "Resolving ftp.ncbi.nlm.nih.gov... 130.14.250.12, 2607:f220:41e:250::7\n",
      "Connecting to ftp.ncbi.nlm.nih.gov|130.14.250.12|:21... connected.\n",
      "Logging in as anonymous ... Logged in!\n",
      "==> SYST ... done.    ==> PWD ... done.\n",
      "==> TYPE I ... done.  ==> CWD (1) /genomes/all/GCA/001/879/705/GCA_001879705.1_ASM187970v1 ... done.\n",
      "==> SIZE GCA_001879705.1_ASM187970v1_genomic.fna.gz ... 10536956\n",
      "==> PASV ... done.    ==> RETR GCA_001879705.1_ASM187970v1_genomic.fna.gz ... done.\n",
      "Length: 10536956 (10M) (unauthoritative)\n",
      "\n",
      "GCA_001879705.1_ASM 100%[===================>]  10.05M  5.71MB/s    in 1.8s    \n",
      "\n",
      "2017-04-24 08:30:37 (5.71 MB/s) - ‘GCA_001879705.1_ASM187970v1_genomic.fna.gz’ saved [10536956]\n",
      "\n"
     ]
    }
   ],
   "source": [
    "#download genome\n",
    "!wget ftp://ftp.ncbi.nlm.nih.gov/genomes/all/GCA/001/879/705/GCA_001879705.1_ASM187970v1/GCA_001879705.1_ASM187970v1_genomic.fna.gz"
   ]
  },
  {
   "cell_type": "code",
   "execution_count": 2,
   "metadata": {
    "collapsed": false
   },
   "outputs": [
    {
     "name": "stdout",
     "output_type": "stream",
     "text": [
      ">MIEO01000073.1 Epicoccum sorghinum strain USPMTOX48 Contig100, whole genome shotgun sequence\r\n",
      ">MIEO01000074.1 Epicoccum sorghinum strain USPMTOX48 Contig101, whole genome shotgun sequence\r\n",
      ">MIEO01000075.1 Epicoccum sorghinum strain USPMTOX48 Contig102, whole genome shotgun sequence\r\n",
      ">MIEO01000076.1 Epicoccum sorghinum strain USPMTOX48 Contig103, whole genome shotgun sequence\r\n",
      ">MIEO01000077.1 Epicoccum sorghinum strain USPMTOX48 Contig104, whole genome shotgun sequence\r\n",
      ">MIEO01000078.1 Epicoccum sorghinum strain USPMTOX48 Contig105, whole genome shotgun sequence\r\n",
      ">MIEO01000079.1 Epicoccum sorghinum strain USPMTOX48 Contig106, whole genome shotgun sequence\r\n",
      ">MIEO01000080.1 Epicoccum sorghinum strain USPMTOX48 Contig107, whole genome shotgun sequence\r\n",
      ">MIEO01000081.1 Epicoccum sorghinum strain USPMTOX48 Contig108, whole genome shotgun sequence\r\n",
      ">MIEO01000082.1 Epicoccum sorghinum strain USPMTOX48 Contig109, whole genome shotgun sequence\r\n"
     ]
    }
   ],
   "source": [
    "#check what fasta headers look like\n",
    "!gunzip GCA_001879705.1_ASM187970v1_genomic.fna.gz\n",
    "!grep '^>' GCA_001879705.1_ASM187970v1_genomic.fna | head"
   ]
  },
  {
   "cell_type": "code",
   "execution_count": 3,
   "metadata": {
    "collapsed": false
   },
   "outputs": [
    {
     "name": "stdout",
     "output_type": "stream",
     "text": [
      "-------------------------------------------------------\n",
      "\u001b[92m[08:34:26 AM]\u001b[0m: OS: MacOSX 10.12.4, 8 cores, ~ 17 GB RAM. Python: 2.7.12\n",
      "\u001b[92m[08:34:26 AM]\u001b[0m: Running funannotate v0.6.1\n",
      "\u001b[92m[08:34:28 AM]\u001b[0m: Augustus training set for aspergillus_nidulans already exists, thus funannotate will use those parameters.\n",
      "\t\tIf you want to re-train, provide a unique name for the --augustus_species argument\n",
      "\u001b[92m[08:34:29 AM]\u001b[0m: AUGUSTUS (3.2.1) detected, version seems to be compatible with BRAKER1 and BUSCO\n",
      "\u001b[92m[08:34:30 AM]\u001b[0m: Fasta headers on your input have more characters than the max (16), reformat headers to continue.\n"
     ]
    }
   ],
   "source": [
    "#run funannotate, should error out here as fasta headers are too long\n",
    "!funannotate predict -i GCA_001879705.1_ASM187970v1_genomic.fna -o annotate -s \"Epicoccum sorghinum\" \\\n",
    "    --augustus_species aspergillus_nidulans --use_diamond --cpus 7"
   ]
  },
  {
   "cell_type": "code",
   "execution_count": 9,
   "metadata": {
    "collapsed": false
   },
   "outputs": [],
   "source": [
    "#reformat fasta headers\n",
    "!gsed 's/MIE.*.Contig/Contig/g' GCA_001879705.1_ASM187970v1_genomic.fna | gsed 's/, whole.*.$//g' > Epicoccum.fasta"
   ]
  },
  {
   "cell_type": "code",
   "execution_count": 10,
   "metadata": {
    "collapsed": false
   },
   "outputs": [
    {
     "name": "stdout",
     "output_type": "stream",
     "text": [
      "-------------------------------------------------------\n",
      "\u001b[92m[08:39:13 AM]\u001b[0m: OS: MacOSX 10.12.4, 8 cores, ~ 17 GB RAM. Python: 2.7.12\n",
      "\u001b[92m[08:39:13 AM]\u001b[0m: Running funannotate v0.6.1\n",
      "\u001b[92m[08:39:15 AM]\u001b[0m: Augustus training set for aspergillus_nidulans already exists, thus funannotate will use those parameters.\n",
      "\t\tIf you want to re-train, provide a unique name for the --augustus_species argument\n",
      "\u001b[92m[08:39:17 AM]\u001b[0m: AUGUSTUS (3.2.1) detected, version seems to be compatible with BRAKER1 and BUSCO\n",
      "\u001b[92m[08:39:17 AM]\u001b[0m: Loading sequences and soft-masking genome\n",
      "\u001b[92m[08:39:17 AM]\u001b[0m: Soft-masking: building RepeatModeler database\n",
      "\u001b[92m[08:39:18 AM]\u001b[0m: Soft-masking: generating repeat library using RepeatModeler\n",
      "\u001b[92m[10:21:34 AM]\u001b[0m: Soft-masking: running RepeatMasker with custom library\n",
      "\u001b[92m[10:26:27 AM]\u001b[0m: Masked genome: 391 scaffolds; 33,420,179 bp\n",
      "\u001b[92m[10:26:27 AM]\u001b[0m: No transcripts available to generate Augustus hints, provide --transcript_evidence\n",
      "\u001b[92m[10:26:38 AM]\u001b[0m: Mapping proteins to genome using tBlastn/Exonerate\n",
      "\u001b[92m[10:26:40 AM]\u001b[0m: Using 541,198 proteins as queries\n",
      "\u001b[92m[10:26:40 AM]\u001b[0m: Running Diamond pre-filter search\n",
      "\u001b[92m[10:32:40 AM]\u001b[0m: Found 499,051 preliminary alignments\n",
      "\u001b[92m[12:25:08 PM]\u001b[0m: Exonerate finished: found 1,489 alignments\n",
      "\u001b[92m[12:25:08 PM]\u001b[0m: Failed exonerate alignments found, see files in p2g_70526/failed\n",
      "\u001b[92m[12:25:09 PM]\u001b[0m: Running GeneMark-ES on assembly\n",
      "\u001b[92m[12:43:08 PM]\u001b[0m: Converting GeneMark GTF file to GFF3\n",
      "\u001b[92m[12:43:09 PM]\u001b[0m: Found 11,988 gene models\n",
      "\u001b[92m[12:43:11 PM]\u001b[0m: Running Augustus gene prediction\n",
      "\u001b[92m[12:51:08 PM]\u001b[0m: Found 11,716 gene models\n",
      "\u001b[92m[12:51:10 PM]\u001b[0m: Pulling out high quality Augustus predictions\n",
      "\u001b[92m[12:51:11 PM]\u001b[0m: Found 114 high quality predictions from Augustus (>90% exon evidence)\n",
      "\u001b[92m[12:51:11 PM]\u001b[0m: 23,836 total gene models from all sources\n",
      "\u001b[92m[12:51:11 PM]\u001b[0m: Setting up EVM partitions\n",
      "\u001b[92m[12:51:29 PM]\u001b[0m: Generating EVM command list\n",
      "\u001b[92m[12:51:29 PM]\u001b[0m: Running EVM commands with 6 CPUs\n",
      "\u001b[92m[01:05:19 PM]\u001b[0m: Combining partitioned EVM outputs\n",
      "\u001b[92m[01:05:20 PM]\u001b[0m: Converting EVM output to GFF3\n",
      "\u001b[92m[01:05:44 PM]\u001b[0m: Collecting all EVM results\n",
      "\u001b[92m[01:05:44 PM]\u001b[0m: 12,284 total gene models from EVM\n",
      "\u001b[92m[01:05:44 PM]\u001b[0m: Predicting tRNAs\n",
      "\u001b[92m[01:06:27 PM]\u001b[0m: Found 176 tRNA gene models\n",
      "\u001b[92m[01:06:27 PM]\u001b[0m: Merging EVM output with tRNAscan output\n",
      "\u001b[92m[01:06:28 PM]\u001b[0m: Reformatting GFF file using GAG\n",
      "\u001b[92m[01:06:50 PM]\u001b[0m: 12,460 total gene models\n",
      "\u001b[92m[01:06:50 PM]\u001b[0m: Filtering out bad gene models (< 50 aa in length, transposable elements, etc).\n",
      "\u001b[92m[01:14:48 PM]\u001b[0m: 12,386 gene models remaining\n",
      "\u001b[92m[01:14:48 PM]\u001b[0m: Converting to preliminary Genbank format\n",
      "\u001b[92m[01:15:58 PM]\u001b[0m: Cleaning models flagged by tbl2asn\n",
      "\u001b[92m[01:15:59 PM]\u001b[0m: 12,380 gene models remaining\n",
      "\u001b[92m[01:15:59 PM]\u001b[0m: Re-naming gene models\n",
      "\u001b[92m[01:16:25 PM]\u001b[0m: Converting to final Genbank format\n",
      "\u001b[92m[01:17:11 PM]\u001b[0m: Collecting final annotation files\n",
      "\u001b[92m[01:17:15 PM]\u001b[0m: Funannotate predict is finished, output files are in the annotate/predict_results folder\n",
      "\u001b[92m[01:17:15 PM]\u001b[0m: Note, you should fix any tbl2asn errors now before running functional annotation.\n"
     ]
    }
   ],
   "source": [
    "!funannotate predict -i Epicoccum.fasta -o annotate -s \"Epicoccum sorghinum\" \\\n",
    "    --augustus_species aspergillus_nidulans --use_diamond --cpus 7"
   ]
  },
  {
   "cell_type": "code",
   "execution_count": 12,
   "metadata": {
    "collapsed": false
   },
   "outputs": [
    {
     "name": "stdout",
     "output_type": "stream",
     "text": [
      "12380\n",
      "##gff-version 3\n",
      "Contig100\tEVM\tgene\t2502\t3336\t.\t-\t.\tID=FUN_12368\n",
      "Contig100\tEVM\tmRNA\t2502\t3336\t.\t-\t.\tID=FUN_12368-T1;Parent=FUN_12368\n",
      "Contig100\tEVM\texon\t2502\t2597\t.\t-\t.\tID=evm.model.Contig100.1.exon3;Parent=FUN_12368-T1\n",
      "Contig100\tEVM\texon\t2655\t2860\t.\t-\t.\tID=evm.model.Contig100.1.exon2;Parent=FUN_12368-T1\n",
      "Contig100\tEVM\texon\t2913\t3336\t.\t-\t.\tID=evm.model.Contig100.1.exon1;Parent=FUN_12368-T1\n",
      "Contig100\tEVM\tCDS\t2502\t2597\t.\t-\t0\tID=cds.evm.model.Contig100.1;Parent=FUN_12368-T1\n",
      "Contig100\tEVM\tCDS\t2655\t2860\t.\t-\t2\tID=cds.evm.model.Contig100.1;Parent=FUN_12368-T1\n",
      "Contig100\tEVM\tCDS\t2913\t3336\t.\t-\t0\tID=cds.evm.model.Contig100.1;Parent=FUN_12368-T1\n",
      "Contig100\tEVM\tstart_codon\t3334\t3336\t.\t-\t.\tID=FUN_12368-T1:start;Parent=FUN_12368-T1\n"
     ]
    }
   ],
   "source": [
    "#double check annotation \n",
    "!grep -c $'\\tgene\\t' annotate/predict_results/epicoccum_sorghinum.gff3\n",
    "!head annotate/predict_results/epicoccum_sorghinum.gff3"
   ]
  },
  {
   "cell_type": "code",
   "execution_count": 13,
   "metadata": {
    "collapsed": false
   },
   "outputs": [
    {
     "name": "stdout",
     "output_type": "stream",
     "text": [
      "-------------------------------------------------------\n",
      "\u001b[92m[01:19:14 PM]\u001b[0m: OS: MacOSX 10.12.4, 8 cores, ~ 17 GB RAM. Python: 2.7.12\n",
      "\u001b[92m[01:19:14 PM]\u001b[0m: Running funannotate v0.6.1\n",
      "\u001b[92m[01:19:16 PM]\u001b[0m: Augustus training set for aspergillus_nidulans already exists, thus funannotate will use those parameters.\n",
      "\t\tIf you want to re-train, provide a unique name for the --augustus_species argument\n",
      "\u001b[92m[01:19:18 PM]\u001b[0m: AUGUSTUS (3.2.1) detected, version seems to be compatible with BRAKER1 and BUSCO\n",
      "\u001b[92m[01:19:19 PM]\u001b[0m: Masked genome: 391 scaffolds; 33,420,179 bp\n",
      "\u001b[92m[01:19:19 PM]\u001b[0m: No transcripts available to generate Augustus hints, provide --transcript_evidence\n",
      "\u001b[92m[01:19:33 PM]\u001b[0m: Using existing protein evidence alignments\n",
      "\u001b[92m[01:19:36 PM]\u001b[0m: Running Augustus gene prediction\n",
      "\u001b[92m[01:19:38 PM]\u001b[0m: Pulling out high quality Augustus predictions\n",
      "\u001b[92m[01:19:39 PM]\u001b[0m: Found 114 high quality predictions from Augustus (>90% exon evidence)\n",
      "\u001b[92m[01:19:39 PM]\u001b[0m: 23,836 total gene models from all sources\n",
      "\u001b[92m[01:19:39 PM]\u001b[0m: Setting up EVM partitions\n",
      "\u001b[92m[01:19:59 PM]\u001b[0m: Generating EVM command list\n",
      "\u001b[92m[01:19:59 PM]\u001b[0m: Running EVM commands with 6 CPUs\n",
      "\u001b[92m[01:33:33 PM]\u001b[0m: Combining partitioned EVM outputs\n",
      "\u001b[92m[01:33:34 PM]\u001b[0m: Converting EVM output to GFF3\n",
      "\u001b[92m[01:33:57 PM]\u001b[0m: Collecting all EVM results\n",
      "\u001b[92m[01:33:57 PM]\u001b[0m: 12,287 total gene models from EVM\n",
      "\u001b[92m[01:33:58 PM]\u001b[0m: Predicting tRNAs\n",
      "\u001b[92m[01:33:58 PM]\u001b[0m: Merging EVM output with tRNAscan output\n",
      "\u001b[92m[01:33:58 PM]\u001b[0m: Reformatting GFF file using GAG\n",
      "\u001b[92m[01:34:22 PM]\u001b[0m: 12,463 total gene models\n",
      "\u001b[92m[01:34:22 PM]\u001b[0m: Filtering out bad gene models (< 50 aa in length, transposable elements, etc).\n",
      "\u001b[92m[01:41:35 PM]\u001b[0m: 12,389 gene models remaining\n",
      "\u001b[92m[01:41:35 PM]\u001b[0m: Converting to preliminary Genbank format\n",
      "\u001b[92m[01:42:46 PM]\u001b[0m: Cleaning models flagged by tbl2asn\n",
      "\u001b[92m[01:42:47 PM]\u001b[0m: 12,384 gene models remaining\n",
      "\u001b[92m[01:42:47 PM]\u001b[0m: Re-naming gene models\n",
      "\u001b[92m[01:43:13 PM]\u001b[0m: Converting to final Genbank format\n",
      "\u001b[92m[01:43:59 PM]\u001b[0m: Collecting final annotation files\n",
      "\u001b[92m[01:44:04 PM]\u001b[0m: Funannotate predict is finished, output files are in the annotate/predict_results folder\n",
      "\u001b[92m[01:44:04 PM]\u001b[0m: Note, you should fix any tbl2asn errors now before running functional annotation.\n"
     ]
    }
   ],
   "source": [
    "#apparently error has something to do with re-running over the top of existing directory/annotation\n",
    "#so re-run, but make small change, i.e. change name of gene models\n",
    "!funannotate predict -i Epicoccum.fasta -o annotate -s \"Epicoccum sorghinum\" \\\n",
    "    --augustus_species aspergillus_nidulans --use_diamond --cpus 7 --name TEST_"
   ]
  },
  {
   "cell_type": "code",
   "execution_count": 14,
   "metadata": {
    "collapsed": false
   },
   "outputs": [
    {
     "name": "stdout",
     "output_type": "stream",
     "text": [
      "12384\n",
      "##gff-version 3\n",
      "Contig100\tEVM\tgene\t2502\t3336\t.\t-\t.\tID=TEST_12372\n",
      "Contig100\tEVM\tmRNA\t2502\t3336\t.\t-\t.\tID=TEST_12372-T1;Parent=TEST_12372\n",
      "Contig100\tEVM\texon\t2502\t2597\t.\t-\t.\tID=evm.model.Contig100.1.exon3;Parent=TEST_12372-T1\n",
      "Contig100\tEVM\texon\t2655\t2860\t.\t-\t.\tID=evm.model.Contig100.1.exon2;Parent=TEST_12372-T1\n",
      "Contig100\tEVM\texon\t2913\t3336\t.\t-\t.\tID=evm.model.Contig100.1.exon1;Parent=TEST_12372-T1\n",
      "Contig100\tEVM\tCDS\t2502\t2597\t.\t-\t0\tID=cds.evm.model.Contig100.1;Parent=TEST_12372-T1\n",
      "Contig100\tEVM\tCDS\t2655\t2860\t.\t-\t2\tID=cds.evm.model.Contig100.1;Parent=TEST_12372-T1\n",
      "Contig100\tEVM\tCDS\t2913\t3336\t.\t-\t0\tID=cds.evm.model.Contig100.1;Parent=TEST_12372-T1\n",
      "Contig100\tEVM\tstart_codon\t3334\t3336\t.\t-\t.\tID=TEST_12372-T1:start;Parent=TEST_12372-T1\n"
     ]
    }
   ],
   "source": [
    "#double check annotation \n",
    "!grep -c $'\\tgene\\t' annotate/predict_results/epicoccum_sorghinum.gff3\n",
    "!head annotate/predict_results/epicoccum_sorghinum.gff3"
   ]
  },
  {
   "cell_type": "code",
   "execution_count": 15,
   "metadata": {
    "collapsed": true
   },
   "outputs": [],
   "source": [
    "#so the number of gene models is slightly different, I believe this is due to how the EVM algorithm works, in this case\n",
    "#it resulted in 4 more gene models.... however I don't see the GAG error during re-running the scripts"
   ]
  },
  {
   "cell_type": "code",
   "execution_count": 18,
   "metadata": {
    "collapsed": false
   },
   "outputs": [
    {
     "name": "stdout",
     "output_type": "stream",
     "text": [
      "Ep_Mac_run.ipynb\r\n",
      "Epicoccum.fasta\r\n",
      "GCA_001879705.1_ASM187970v1_genomic.fna\r\n",
      "RepBaseRepeatMaskerEdition-20170127.tar.gz\r\n",
      "\u001b[1m\u001b[36mannotate\u001b[m\u001b[m\r\n",
      "\u001b[1m\u001b[36mgm_et_linux_64\u001b[m\u001b[m\r\n",
      "gm_key_64.gz\r\n",
      "\u001b[1m\u001b[36mp2g_70526\u001b[m\u001b[m\r\n",
      "\u001b[1m\u001b[36msignalp-4.1\u001b[m\u001b[m\r\n"
     ]
    }
   ],
   "source": [
    "#now I will use the docker Ubuntu funannotate image to do the same thing\n",
    "#first need to copy the licensed software to working directory\n",
    "#need genemark (gm_et_linux_64 and gm_key), signalp, repeatmasker libraries\n",
    "!ls"
   ]
  },
  {
   "cell_type": "code",
   "execution_count": null,
   "metadata": {
    "collapsed": true
   },
   "outputs": [],
   "source": [
    "#running docker in terminal, as doens't run in Juypter notebook, so will just cut/paste from terminal here.\n",
    "#run docker\n",
    "docker run -it --rm -v $PWD:/home/linuxbrew/data nextgenusfs/funannotate bash\n",
    "\n",
    "#now in docker container, setup rest of pipeline\n",
    "linuxbrew@7d932903d556:~/data$ cp gm_key_64 ~/.gm_key\n",
    "linuxbrew@7d932903d556:~/data$ tar zxvf RepBaseRepeatMaskerEdition-20170127.tar.gz -C $HOME/.linuxbrew/opt/repeatmasker/libexec\n",
    "linuxbrew@7d932903d556:~/data$ brew postinstall repeatmasker\n"
   ]
  },
  {
   "cell_type": "code",
   "execution_count": null,
   "metadata": {
    "collapsed": true
   },
   "outputs": [],
   "source": [
    "#now run the funannotate command on the docker image, use the precalculated data where possible to\n",
    "funannotate predict --masked_genome annotate/predict_misc/genome.softmasked.fa \\\n",
    "                    --repeatmasker_gff3 annotate/predict_misc/repeatmasker.gff3 \\\n",
    "                    -s \"Epicoccum sorghinum\" \\\n",
    "                    --augustus_species aspergillus_nidulans \\\n",
    "                    --genemark_gtf annotate/predict_misc/genemark/genemark.gtf \\\n",
    "                    --exonerate_proteins annotate/predict_misc/exonerate.out \\\n",
    "                    -o docker \\\n",
    "                    --cpus 6\n",
    "-------------------------------------------------------\n",
    "[09:00:56 PM]: OS: linux2, 6 cores, ~ 8 GB RAM. Python: 2.7.13\n",
    "[09:00:56 PM]: Running funannotate v0.6.0\n",
    "[09:00:57 PM]: Augustus training set for aspergillus_nidulans already exists, thus funannotate will use those parameters.\n",
    "\t\tIf you want to re-train, provide a unique name for the --augustus_species argument\n",
    "[09:00:57 PM]: AUGUSTUS (3.2.3) detected, version seems to be compatible with BRAKER1 and BUSCO\n",
    "[09:01:00 PM]: Masked genome: 391 scaffolds; 33,420,179 bp\n",
    "[09:01:00 PM]: No transcripts available to generate Augustus hints, provide --transcript_evidence\n",
    "[09:01:04 PM]: Running Augustus gene prediction\n",
    "[09:15:51 PM]: Found 11,717 gene models\n",
    "[09:15:55 PM]: Pulling out high quality Augustus predictions\n",
    "[09:15:56 PM]: Found 114 high quality predictions from Augustus (>90% exon evidence)\n",
    "[09:15:57 PM]: 23,837 total gene models from all sources\n",
    "[09:15:57 PM]: Setting up EVM partitions\n",
    "[09:16:43 PM]: Generating EVM command list\n",
    "[09:16:44 PM]: Running EVM commands with 5 CPUs\n",
    "[09:32:26 PM]: Combining partitioned EVM outputs\n",
    "[09:32:28 PM]: Converting EVM output to GFF3\n",
    "[09:32:50 PM]: Collecting all EVM results\n",
    "[09:32:55 PM]: 12,282 total gene models from EVM\n",
    "[09:32:55 PM]: Predicting tRNAs\n",
    "[09:35:03 PM]: Found 176 tRNA gene models\n",
    "[09:35:03 PM]: Merging EVM output with tRNAscan output\n",
    "[09:35:03 PM]: Reformatting GFF file using GAG\n",
    "[09:35:43 PM]: 12,458 total gene models\n",
    "[09:35:43 PM]: Filtering out bad gene models (< 50 aa in length, transposable elements, etc).\n",
    "[09:55:15 PM]: 12,395 gene models remaining\n",
    "[09:55:15 PM]: Converting to preliminary Genbank format\n",
    "[09:57:34 PM]: Cleaning models flagged by tbl2asn\n",
    "[09:57:36 PM]: 12,390 gene models remaining\n",
    "[09:57:37 PM]: Re-naming gene models\n",
    "[09:58:22 PM]: Converting to final Genbank format\n",
    "[09:59:32 PM]: Collecting final annotation files\n",
    "[09:59:37 PM]: Funannotate predict is finished, output files are in the docker/predict_results folder\n",
    "[09:59:37 PM]: Note, you should fix any tbl2asn errors now before running functional annotation.\n"
   ]
  },
  {
   "cell_type": "code",
   "execution_count": null,
   "metadata": {
    "collapsed": true
   },
   "outputs": [],
   "source": [
    "#so to try to duplicate the previous run on mac, check the results make sure they match up\n",
    "grep -c $'\\tgene\\t' docker/predict_results/epicoccum_sorghinum.gff3\n",
    "12390\n",
    "\n",
    "head docker/predict_results/epicoccum_sorghinum.gff3\n",
    "##gff-version 3\n",
    "Contig100\tEVM\tgene\t2502\t3336\t.\t-\t.\tID=FUN_12377\n",
    "Contig100\tEVM\tmRNA\t2502\t3336\t.\t-\t.\tID=FUN_12377-T1;Parent=FUN_12377\n",
    "Contig100\tEVM\texon\t2502\t2597\t.\t-\t.\tID=evm.model.Contig100.1.exon3;Parent=FUN_12377-T1\n",
    "Contig100\tEVM\texon\t2655\t2860\t.\t-\t.\tID=evm.model.Contig100.1.exon2;Parent=FUN_12377-T1\n",
    "Contig100\tEVM\texon\t2913\t3336\t.\t-\t.\tID=evm.model.Contig100.1.exon1;Parent=FUN_12377-T1\n",
    "Contig100\tEVM\tCDS\t2502\t2597\t.\t-\t0\tID=cds.evm.model.Contig100.1;Parent=FUN_12377-T1\n",
    "Contig100\tEVM\tCDS\t2655\t2860\t.\t-\t2\tID=cds.evm.model.Contig100.1;Parent=FUN_12377-T1\n",
    "Contig100\tEVM\tCDS\t2913\t3336\t.\t-\t0\tID=cds.evm.model.Contig100.1;Parent=FUN_12377-T1\n",
    "Contig100\tEVM\tstart_codon\t2595\t2597\t.\t-\t.\tID=FUN_12377-T1:start;Parent=FUN_12377-T1\n"
   ]
  },
  {
   "cell_type": "code",
   "execution_count": null,
   "metadata": {
    "collapsed": true
   },
   "outputs": [],
   "source": [
    "#now re-run over the top of previous annotation\n",
    "funannotate predict --masked_genome annotate/predict_misc/genome.softmasked.fa \\\n",
    "                    --repeatmasker_gff3 annotate/predict_misc/repeatmasker.gff3 \\\n",
    "                    -s \"Epicoccum sorghinum\" \\\n",
    "                    --augustus_species aspergillus_nidulans \\\n",
    "                    --genemark_gtf annotate/predict_misc/genemark/genemark.gtf \\\n",
    "                    --exonerate_proteins annotate/predict_misc/exonerate.out \\\n",
    "                    -o docker \\\n",
    "                    --cpus 6 \\\n",
    "                    --name TEST_\n",
    "-------------------------------------------------------\n",
    "[10:05:51 PM]: OS: linux2, 6 cores, ~ 8 GB RAM. Python: 2.7.13\n",
    "[10:05:52 PM]: Running funannotate v0.6.0\n",
    "[10:05:53 PM]: Augustus training set for aspergillus_nidulans already exists, thus funannotate will use those parameters.\n",
    "\t\tIf you want to re-train, provide a unique name for the --augustus_species argument\n",
    "[10:05:54 PM]: AUGUSTUS (3.2.3) detected, version seems to be compatible with BRAKER1 and BUSCO\n",
    "[10:05:59 PM]: Masked genome: 391 scaffolds; 33,420,179 bp\n",
    "[10:06:00 PM]: No transcripts available to generate Augustus hints, provide --transcript_evidence\n",
    "[10:06:05 PM]: Running Augustus gene prediction\n",
    "[10:06:09 PM]: Pulling out high quality Augustus predictions\n",
    "[10:06:09 PM]: Found 114 high quality predictions from Augustus (>90% exon evidence)\n",
    "[10:06:10 PM]: 23,837 total gene models from all sources\n",
    "[10:06:10 PM]: Setting up EVM partitions\n",
    "[10:06:36 PM]: Generating EVM command list\n",
    "[10:06:37 PM]: Running EVM commands with 5 CPUs\n",
    "[10:32:16 PM]: Combining partitioned EVM outputs\n",
    "[10:32:18 PM]: Converting EVM output to GFF3\n",
    "[10:32:41 PM]: Collecting all EVM results\n",
    "[10:32:46 PM]: 12,274 total gene models from EVM\n",
    "[10:32:54 PM]: Predicting tRNAs\n",
    "[10:32:54 PM]: Merging EVM output with tRNAscan output\n",
    "[10:32:54 PM]: Reformatting GFF file using GAG\n",
    "[10:33:11 PM]: 12,450 total gene models\n",
    "[10:33:11 PM]: Filtering out bad gene models (< 50 aa in length, transposable elements, etc).\n",
    "[10:33:13 PM]: 12,384 gene models remaining\n",
    "[10:33:13 PM]: Converting to preliminary Genbank format\n",
    "[10:34:20 PM]: Cleaning models flagged by tbl2asn\n",
    "[10:34:21 PM]: 12,380 gene models remaining\n",
    "[10:34:22 PM]: Re-naming gene models\n",
    "[10:34:30 PM]: Converting to final Genbank format\n",
    "[10:34:52 PM]: Collecting final annotation files\n",
    "[10:34:54 PM]: Funannotate predict is finished, output files are in the docker/predict_results folder\n",
    "[10:34:54 PM]: Note, you should fix any tbl2asn errors now before running functional annotation.\n"
   ]
  },
  {
   "cell_type": "code",
   "execution_count": null,
   "metadata": {
    "collapsed": true
   },
   "outputs": [],
   "source": [
    "#okay, so what is actually in the files?\n",
    "grep -c $'\\tgene\\t' docker/predict_results/epicoccum_sorghinum.gff3\n",
    "2734\n",
    "\n",
    "#well finally! this must be the error!  Logfile says that it can't create output directory, which is strange\n",
    "2017-04-24 22:34:23,865: gag.py -f /home/linuxbrew/data/docker/predict_misc/genome.softmasked.fa -g docker/predict_misc/ncbi.cleaned.gff3 -o docker/predict_misc/tbl2asn --fix_start_stop\n",
    "2017-04-24 22:34:28,871: (None, \"Reading fasta...\\nDone.\\nmkdir: cannot create directory 'docker/predict_misc/tbl2asn': File exists\\nReading gff...\\nDone.\\nCalculating stats on original genome\\nCreating start and stop codons...\\nCalculating stats on modified genome\\nWriting stats file to docker/predict_misc/"
   ]
  },
  {
   "cell_type": "code",
   "execution_count": null,
   "metadata": {
    "collapsed": true
   },
   "outputs": [],
   "source": [
    "So now I have to figure out why this is happening.... seems like a permissions problem from within the subprocess\n",
    "module as running from the command line works fine."
   ]
  }
 ],
 "metadata": {
  "kernelspec": {
   "display_name": "Python 2",
   "language": "python",
   "name": "python2"
  },
  "language_info": {
   "codemirror_mode": {
    "name": "ipython",
    "version": 2
   },
   "file_extension": ".py",
   "mimetype": "text/x-python",
   "name": "python",
   "nbconvert_exporter": "python",
   "pygments_lexer": "ipython2",
   "version": "2.7.12"
  }
 },
 "nbformat": 4,
 "nbformat_minor": 2
}
